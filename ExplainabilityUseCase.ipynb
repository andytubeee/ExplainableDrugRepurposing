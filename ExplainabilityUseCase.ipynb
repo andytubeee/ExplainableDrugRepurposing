{
 "cells": [
  {
   "cell_type": "markdown",
   "id": "0c740326-9e22-477e-89bd-474e1a897ee1",
   "metadata": {},
   "source": [
    "**------------------------------------------------------------------------------------------------------------------------------------------------------**\n",
    "\n",
    "**Input: Prediction(s) obtained from a trained GNN - GraphSAGE, GCN and GAT**\n",
    "\n",
    "**Use Case: This notebook returns a small subgraph of the input graph that contains the most important nodes and edges that were most influential for the prediction(s) using Integrated Gradients and Saliency Maps**\n",
    "\n",
    "**------------------------------------------------------------------------------------------------------------------------------------------------------**"
   ]
  },
  {
   "cell_type": "markdown",
   "id": "faf38c8a-21a7-477f-a35a-faa325584e0c",
   "metadata": {},
   "source": [
    "# Librairies"
   ]
  },
  {
   "cell_type": "code",
   "execution_count": 1,
   "id": "e1800886-4197-4cc7-b1cf-ce08f928c94e",
   "metadata": {},
   "outputs": [],
   "source": [
    "import pandas as pd\n",
    "import numpy as np\n",
    "import operator\n",
    "import matplotlib.pyplot as plt\n",
    "import networkx as nx\n",
    "import json\n",
    "\n",
    "import os\n",
    "import re\n",
    "import random\n",
    "import itertools\n",
    "\n",
    "import torch\n",
    "import torch.nn as nn\n",
    "from torch.nn import Linear\n",
    "import torch.nn.functional as F\n",
    "\n",
    "import dgl\n",
    "import dgl.nn as dglnn\n",
    "import dgl.function as fn\n",
    "from dgl.nn import HeteroGraphConv, SAGEConv, GraphConv, GATConv\n",
    "from dgl.data.utils import save_graphs, load_graphs\n",
    "\n",
    "from torch_geometric.explain import characterization_score\n",
    "\n",
    "from captum.attr import Saliency, IntegratedGradients\n",
    "\n",
    "from sklearn.metrics import roc_auc_score, precision_score, recall_score, f1_score\n",
    "\n",
    "from functools import partial\n",
    "\n",
    "import warnings\n",
    "warnings.simplefilter(\"ignore\")\n",
    "\n",
    "from src.utils import *\n",
    "from src.gnn import *\n",
    "from src.explain import *"
   ]
  },
  {
   "cell_type": "code",
   "execution_count": 2,
   "id": "59cd9b43-0585-41cc-9abd-83144a62b5f6",
   "metadata": {},
   "outputs": [],
   "source": [
    "# etype we want to predict\n",
    "etype = ('Compound', 'DRUGBANK::treats::Compound:Disease', 'Disease')"
   ]
  },
  {
   "cell_type": "markdown",
   "id": "d4f5d051-9e5b-4082-a69d-6d7cb36a37d4",
   "metadata": {},
   "source": [
    "# 1) Get Subgraph"
   ]
  },
  {
   "cell_type": "markdown",
   "id": "d5c0bd01-1042-477d-95c2-048e34b7d2a4",
   "metadata": {},
   "source": [
    "**Get DRKG**"
   ]
  },
  {
   "cell_type": "code",
   "execution_count": 3,
   "id": "d5e50bcf-07d9-472b-a738-a16844f3f16f",
   "metadata": {},
   "outputs": [],
   "source": [
    "df = pd.read_csv('Input/DRKG/drkg.tsv', sep='\\t', header=None)\n",
    "df = df.dropna()"
   ]
  },
  {
   "cell_type": "markdown",
   "id": "aa6700d9-962f-4ae2-88d4-bbc651e866b4",
   "metadata": {},
   "source": [
    "**Define subgraph for Alzheimer, we drop all the 'compound treats disease (not Alzheimer)' edges**"
   ]
  },
  {
   "cell_type": "code",
   "execution_count": 4,
   "id": "bd8b582b-a823-47ed-aa81-5a8d5f34c101",
   "metadata": {},
   "outputs": [],
   "source": [
    "labels = df[(df[1] == \"DRUGBANK::treats::Compound:Disease\") & (df[2] != \"Disease::MESH:D000544\")].index\n",
    "df = df.drop(labels=labels)"
   ]
  },
  {
   "cell_type": "markdown",
   "id": "f28aa7d5-b35a-4b88-95d3-e828bc060595",
   "metadata": {},
   "source": [
    "**Create HeteroGraph**"
   ]
  },
  {
   "cell_type": "code",
   "execution_count": 5,
   "id": "144b7dd4-381a-4e4a-be77-474c28aaf978",
   "metadata": {},
   "outputs": [],
   "source": [
    "node_dict = get_node_dict(df)\n",
    "edge_dict = get_edge_dict(df, node_dict)\n",
    "g = dgl.heterograph(edge_dict)"
   ]
  },
  {
   "cell_type": "markdown",
   "id": "0daa9a64-9c92-469d-aa9b-d4f9b803ff7e",
   "metadata": {},
   "source": [
    "**Add node features**"
   ]
  },
  {
   "cell_type": "code",
   "execution_count": 6,
   "id": "72d3d564-3344-4527-9a3e-3388560247da",
   "metadata": {},
   "outputs": [],
   "source": [
    "g, node_features = add_node_features(g)"
   ]
  },
  {
   "cell_type": "markdown",
   "id": "44cd0142-3054-4b6d-a837-f406124ba389",
   "metadata": {},
   "source": [
    "**Construct negative graph**"
   ]
  },
  {
   "cell_type": "code",
   "execution_count": 7,
   "id": "42407713-e850-4311-803e-51a45d720c92",
   "metadata": {},
   "outputs": [],
   "source": [
    "g_neg = construct_negative_graph(g, etype)"
   ]
  },
  {
   "cell_type": "markdown",
   "id": "9d704488-de43-4db0-bf5c-dddafc608ead",
   "metadata": {},
   "source": [
    "# 2) Measure Explainability"
   ]
  },
  {
   "cell_type": "code",
   "execution_count": 8,
   "id": "dcb74ed5-67be-4672-81f9-6c5a0d1d76e8",
   "metadata": {},
   "outputs": [],
   "source": [
    "def sample_heads(true_head, embed):\n",
    "    '''Samples random heads to compute Hits@5, Hits@10'''\n",
    "    num_neg_samples = 0\n",
    "    max_num = 99\n",
    "    candidates = []\n",
    "    nodes = list(range(embed['Compound'].size()[0]))\n",
    "    random.shuffle(nodes)\n",
    "\n",
    "    while num_neg_samples < max_num:    \n",
    "        sample_head = nodes[num_neg_samples]\n",
    "        if sample_head != true_head:\n",
    "            candidates.append(sample_head)\n",
    "        num_neg_samples += 1\n",
    "    \n",
    "    candidates.append(true_head.item())\n",
    "    candidates_embeds = torch.index_select(embed['Compound'], 0, torch.tensor(candidates))\n",
    "\n",
    "    return candidates, candidates_embeds"
   ]
  },
  {
   "cell_type": "code",
   "execution_count": 9,
   "id": "272fe601-7240-4f80-9b40-3c6e051f14eb",
   "metadata": {},
   "outputs": [],
   "source": [
    "def get_rank(true_head, true_tail, embed):\n",
    "    '''Gets rank of true head'''\n",
    "    x = torch.select(embed['Compound'], 0, true_tail)\n",
    "    x = x.view(1, x.size()[0])\n",
    "\n",
    "    candidates, candidates_embeds = sample_heads(true_head, embed)\n",
    "\n",
    "    distances = torch.cdist(candidates_embeds, x, p=2)\n",
    "    dist_dict = {cand: dist for cand, dist in zip(candidates, distances)} \n",
    "\n",
    "    sorted_dict = dict(sorted(dist_dict.items(), key=operator.itemgetter(1), reverse=True))\n",
    "    sorted_keys = list(sorted_dict.keys())\n",
    "\n",
    "    ranks_dict = {sorted_keys[i]: i for i in range(0, len(sorted_keys))}\n",
    "    rank = ranks_dict[true_head.item()]\n",
    "    return rank"
   ]
  },
  {
   "cell_type": "code",
   "execution_count": 10,
   "id": "e27d94f8-316c-46ab-9533-3b27287aa6ad",
   "metadata": {},
   "outputs": [],
   "source": [
    "def get_all_ranks(g, etype, mode):\n",
    "    '''Gets all the ranks having as input either g, g_explain or g_complement'''\n",
    "    ranks = []\n",
    "    ranks_explain = []\n",
    "    ranks_complement = []\n",
    "\n",
    "    for i in range(len(g.edges(etype=etype, form='eid'))):\n",
    "        \n",
    "        print(mode + ': ' + str(i))\n",
    "        \n",
    "        g_single_instance, g_neg_single_instance, u, v = get_single_instance_graph(g, etype, i)\n",
    "        imp_node_dic = get_imp_node_dic(etype, g_single_instance, g_neg_single_instance, mode)\n",
    "        \n",
    "        with open(f\"Output/Explainability/Alzheimer/imp_node_dict_{i}_{mode}.json\", \"w\") as file:\n",
    "            json.dump(imp_node_dic, file)\n",
    "\n",
    "        _, _, embed = model(g_single_instance, g_neg_single_instance, g_single_instance.ndata['h'], etype)\n",
    "        rank = get_rank(u, v, embed)\n",
    "        ranks.append(rank)\n",
    "\n",
    "        _, _, embed_explain = get_explain_y_hat(g_single_instance, imp_node_dic, etype, u, v,)\n",
    "        rank = get_rank(u, v, embed_explain)\n",
    "        ranks_explain.append(rank)\n",
    "\n",
    "        _, _, embed_complement = get_complement_y_hat(g_single_instance, imp_node_dic, etype, u, v,)\n",
    "        rank = get_rank(u, v, embed_complement)\n",
    "        ranks_complement.append(rank)\n",
    "    \n",
    "    return ranks, ranks_explain, ranks_complement"
   ]
  },
  {
   "cell_type": "code",
   "execution_count": null,
   "id": "6adfb405-62ac-410c-8192-3d7240ada181",
   "metadata": {},
   "outputs": [],
   "source": [
    "###"
   ]
  },
  {
   "cell_type": "code",
   "execution_count": 12,
   "id": "0d2a8ed8-34d5-4d20-938d-a7e4e5a5f11c",
   "metadata": {},
   "outputs": [],
   "source": [
    "i = 1\n",
    "mode = 'ig'"
   ]
  },
  {
   "cell_type": "code",
   "execution_count": 13,
   "id": "817c87a5-e904-4890-9c73-b9b44f00fe5d",
   "metadata": {},
   "outputs": [],
   "source": [
    "g_single_instance, g_neg_single_instance, u, v = get_single_instance_graph(g, etype, i)\n",
    "imp_node_dic = get_imp_node_dic(etype, g_single_instance, g_neg_single_instance, mode)"
   ]
  },
  {
   "cell_type": "code",
   "execution_count": 17,
   "id": "84da9d17-7da6-4c37-a676-2b896cf0bc91",
   "metadata": {},
   "outputs": [],
   "source": [
    "with open(f\"Output/Explainability/Alzheimer/imp_node_dict_{i}_{mode}.json\", \"w\") as file:\n",
    "    json.dump(imp_node_dic, file)"
   ]
  },
  {
   "cell_type": "code",
   "execution_count": 14,
   "id": "a056e2d3-0ad7-4511-bb3c-e5e94c441d16",
   "metadata": {},
   "outputs": [
    {
     "data": {
      "text/plain": [
       "7"
      ]
     },
     "execution_count": 14,
     "metadata": {},
     "output_type": "execute_result"
    }
   ],
   "source": [
    " _, _, embed = model(g_single_instance, g_neg_single_instance, g_single_instance.ndata['h'], etype)\n",
    "get_rank(u, v, embed)"
   ]
  },
  {
   "cell_type": "code",
   "execution_count": 18,
   "id": "6098895b-667f-4a51-a644-a33dccb4813c",
   "metadata": {},
   "outputs": [
    {
     "data": {
      "text/plain": [
       "99"
      ]
     },
     "execution_count": 18,
     "metadata": {},
     "output_type": "execute_result"
    }
   ],
   "source": [
    "_, _, embed_explain = get_explain_y_hat(g_single_instance, imp_node_dic, etype, u, v)\n",
    "get_rank(u, v, embed_explain)"
   ]
  },
  {
   "cell_type": "code",
   "execution_count": 19,
   "id": "fd8985fa-8b16-4513-9119-dcd5f6978c59",
   "metadata": {},
   "outputs": [
    {
     "data": {
      "text/plain": [
       "16"
      ]
     },
     "execution_count": 19,
     "metadata": {},
     "output_type": "execute_result"
    }
   ],
   "source": [
    "_, _, embed_complement = get_complement_y_hat(g_single_instance, imp_node_dic, etype, u, v)\n",
    "get_rank(u, v, embed_complement)"
   ]
  },
  {
   "cell_type": "code",
   "execution_count": null,
   "id": "ef78d7f3-c789-416b-bc2f-35fb89035c3a",
   "metadata": {},
   "outputs": [],
   "source": [
    "###"
   ]
  },
  {
   "cell_type": "code",
   "execution_count": null,
   "id": "f7b79543-2aab-4504-9b8b-420894f96aa1",
   "metadata": {},
   "outputs": [],
   "source": [
    "ranks_ig, ranks_explain_ig, ranks_complement_ig = get_all_ranks(g, etype, 'ig')\n",
    "ranks_sal, ranks_explain_sal, ranks_complement_sal = get_all_ranks(g, etype, 'sal')"
   ]
  },
  {
   "cell_type": "markdown",
   "id": "fdf03aa2-0e20-498f-823f-33cc461be779",
   "metadata": {},
   "source": [
    "# 3) Get Explanation"
   ]
  },
  {
   "cell_type": "markdown",
   "id": "ff4abf32-9f96-4a11-9781-9818e43d7f99",
   "metadata": {},
   "source": [
    "**Instance**"
   ]
  },
  {
   "cell_type": "code",
   "execution_count": 20,
   "id": "e6fa37c7-0355-4a5d-adca-1d24379b8681",
   "metadata": {},
   "outputs": [],
   "source": [
    "i = 1\n",
    "mode = 'ig'"
   ]
  },
  {
   "cell_type": "code",
   "execution_count": 25,
   "id": "fc780a68-e72b-4372-8805-34662fcee48d",
   "metadata": {},
   "outputs": [],
   "source": [
    "g_single_instance, g_neg_single_instance, u, v = get_single_instance_graph(g, etype, i)"
   ]
  },
  {
   "cell_type": "code",
   "execution_count": 23,
   "id": "b83c635e-8716-4eec-8542-0370f6002088",
   "metadata": {},
   "outputs": [],
   "source": [
    "with open(f\"Output/Explainability/Alzheimer/imp_node_dict_{i}_{mode}.json\") as file:\n",
    "    imp_node_dict = json.load(file)"
   ]
  },
  {
   "cell_type": "code",
   "execution_count": 27,
   "id": "a442041e-83c4-4cce-9377-c27388d63114",
   "metadata": {},
   "outputs": [],
   "source": [
    "compound_name = list(node_dict[etype[0]].keys())[u]\n",
    "disease_name = list(node_dict[etype[2]].keys())[v]"
   ]
  },
  {
   "cell_type": "code",
   "execution_count": 28,
   "id": "2b2800c7-25e6-4887-8acd-d421716324d2",
   "metadata": {},
   "outputs": [
    {
     "name": "stdout",
     "output_type": "stream",
     "text": [
      "Compound Name: Compound::DB00674\n",
      "Disease Name: Disease::MESH:D000544\n"
     ]
    }
   ],
   "source": [
    "print(f'Compound Name: {compound_name}')\n",
    "print(f'Disease Name: {disease_name}')"
   ]
  },
  {
   "cell_type": "markdown",
   "id": "c3d1b476-2188-4cc8-902f-2e7a8a460217",
   "metadata": {},
   "source": [
    "**Explanatory subgraph**"
   ]
  },
  {
   "cell_type": "code",
   "execution_count": 29,
   "id": "11ab6211-46b7-4b11-9873-6b24ce77e24a",
   "metadata": {},
   "outputs": [],
   "source": [
    "g_explain = g_single_instance\n",
    "\n",
    "for ntype in g_single_instance.ntypes:\n",
    "    if ntype in list(imp_node_dic.keys()):\n",
    "        # keep influential nodes\n",
    "        nids = list(set(g_single_instance.nodes(ntype).detach().numpy()) - set(imp_node_dic[ntype]))\n",
    "        g_explain = dgl.remove_nodes(g_explain, nids=nids, ntype=ntype)\n",
    "    else:\n",
    "        nids = list(set(g_single_instance.nodes(ntype).detach().numpy()))\n",
    "        g_explain = dgl.remove_nodes(g_explain, nids=nids, ntype=ntype)\n",
    "\n",
    "g_explain = dgl.add_edges(g_explain, u, v, etype=etype)"
   ]
  },
  {
   "cell_type": "markdown",
   "id": "ecc67d56-99df-43c7-97ba-6eda9c4e17a5",
   "metadata": {},
   "source": [
    "**Label important nodes**"
   ]
  },
  {
   "cell_type": "code",
   "execution_count": 32,
   "id": "75843e4c-abd7-4424-ac5f-4b7f454d90d5",
   "metadata": {},
   "outputs": [],
   "source": [
    "imp_nodes = []\n",
    "imp_nodes.append(compound_name)\n",
    "imp_nodes.append(disease_name)\n",
    "for key in imp_node_dict.keys():\n",
    "    #print(key + ':')\n",
    "    lst = imp_node_dict[key]\n",
    "    for x in lst:\n",
    "        #print(list(node_dict[key].keys())[x])\n",
    "        imp_nodes.append(list(node_dict[key].keys())[x])\n",
    "    #print()"
   ]
  },
  {
   "cell_type": "markdown",
   "id": "38a2fb51-38b6-46e1-be79-0aff42a19c83",
   "metadata": {},
   "source": [
    "**Add Interaction-type**"
   ]
  },
  {
   "cell_type": "code",
   "execution_count": 34,
   "id": "1ba5ac6e-13de-4358-b007-906d1bacd8b0",
   "metadata": {},
   "outputs": [],
   "source": [
    "df_explain = df[(df[0].isin(imp_nodes)) & (df[2].isin(imp_nodes))]\n",
    "df_explain = df_explain.append(df[(df[0] == compound_name) & \n",
    "                                  (df[1] == \"DRUGBANK::treats::Compound:Disease\") & \n",
    "                                  (df[2] == disease_name)])\n",
    "df_glossary = pd.read_csv('Input/DRKG/relation_glossary.tsv', sep='\\t')\n",
    "df_explain = df_explain.merge(df_glossary[['Relation-name', 'Interaction-type']], right_on='Relation-name', left_on=df_explain[1])"
   ]
  },
  {
   "cell_type": "code",
   "execution_count": 58,
   "id": "b2cdd44a-e056-4088-ab50-77c7b73f43d0",
   "metadata": {},
   "outputs": [],
   "source": [
    "#df_explain['Interaction-type'].value_counts()[:10]"
   ]
  },
  {
   "cell_type": "markdown",
   "id": "bdb8b8d7-5536-41c7-a279-efe0c5aa0bc4",
   "metadata": {},
   "source": [
    "**Plot**"
   ]
  },
  {
   "cell_type": "code",
   "execution_count": 59,
   "id": "1c947bae-bc5c-4255-bf15-da0f98426321",
   "metadata": {},
   "outputs": [],
   "source": [
    "G = nx.from_pandas_edgelist(df_explain, 0, 2, edge_attr=True, create_using=nx.MultiDiGraph())"
   ]
  },
  {
   "cell_type": "code",
   "execution_count": 60,
   "id": "aaa08c76-9d2d-497f-b0ce-4147080efa9b",
   "metadata": {},
   "outputs": [
    {
     "data": {
      "image/png": "[encoded data removed]",
      "text/plain": [
       "<Figure size 640x480 with 1 Axes>"
      ]
     },
     "metadata": {},
     "output_type": "display_data"
    }
   ],
   "source": [
    "import matplotlib.patches as mpatches\n",
    "color = ['orangered', 'lightgreen', 'darkorange', 'lightcyan', 'darkviolet']\n",
    "label = ['Target Link', 'Anatomy', 'Compound', 'Gene', 'Pharmacologic Class']\n",
    "patches = [plt.plot([],[], marker=\"o\", ms=10, ls=\"\", mec=None, color=color[i], label=\"{:s}\".format(label[i]))[0] for i in range(len(label))]"
   ]
  },
  {
   "cell_type": "code",
   "execution_count": 61,
   "id": "fc663ab5-8175-40b3-8ec2-7ec791aecdd3",
   "metadata": {},
   "outputs": [],
   "source": [
    "labels = {}\n",
    "for node in G.nodes:\n",
    "    split = node.split('::')\n",
    "    labels[node] = split[len(split)-1]"
   ]
  },
  {
   "cell_type": "code",
   "execution_count": 62,
   "id": "d5a9cbaa-da4c-4dc1-89f4-6f05b018e9fd",
   "metadata": {},
   "outputs": [],
   "source": [
    "node_color = []\n",
    "for node in G:\n",
    "    if node == compound_name or node == disease_name:\n",
    "        node_color.append('orangered')\n",
    "    else:\n",
    "        if node.startswith('Anatomy'):\n",
    "            node_color.append('lightgreen')\n",
    "        elif node.startswith('Compound'):\n",
    "            node_color.append('darkorange')\n",
    "        elif node.startswith('Disease'):\n",
    "            node_color.append('skyblue')\n",
    "        elif node.startswith('Gene'):\n",
    "            node_color.append('lightcyan')\n",
    "        elif node.startswith('Pharmacologic'):\n",
    "            node_color.append('darkviolet')"
   ]
  },
  {
   "cell_type": "code",
   "execution_count": 63,
   "id": "273951b6-10e2-4e22-835b-63fca9a8553e",
   "metadata": {},
   "outputs": [],
   "source": [
    "edge_labels = {}\n",
    "edge_label_target = {}\n",
    "for i, row in df_explain.iterrows():\n",
    "    split = row[1].split('::')\n",
    "    pair = (row[0], row[2])\n",
    "    \n",
    "    if row[0] == compound_name and row[2] == disease_name:\n",
    "        edge_label_target[pair] = row['Interaction-type']\n",
    "    else:\n",
    "        edge_labels[pair] = row['Interaction-type']"
   ]
  },
  {
   "cell_type": "code",
   "execution_count": 67,
   "id": "07862244-3495-4f6e-b8d0-1ca8edad8d6e",
   "metadata": {},
   "outputs": [
    {
     "data": {
      "image/png": "[encoded data removed]",
      "text/plain": [
       "<Figure size 1200x1200 with 1 Axes>"
      ]
     },
     "metadata": {},
     "output_type": "display_data"
    }
   ],
   "source": [
    "plt.figure(figsize = (12, 12))\n",
    "pos = nx.spring_layout(G, k = 2.5)\n",
    "nx.draw_networkx(G, with_labels=True, node_color=node_color, node_size=1000, pos=pos, font_weight='bold', font_size=12, labels=labels)\n",
    "nx.draw_networkx_edge_labels(G, pos, edge_labels=edge_labels, font_color='black', font_size=12)\n",
    "nx.draw_networkx_edge_labels(G, pos, edge_labels=edge_label_target, font_color='orangered', font_size=12)\n",
    "plt.legend(handles=patches)\n",
    "plt.title(f'Explanatory subgraph for ({compound_name}, treats, {disease_name})')\n",
    "plt.show()"
   ]
  }
 ],
 "metadata": {
  "kernelspec": {
   "display_name": "Python 3 (ipykernel)",
   "language": "python",
   "name": "python3"
  },
  "language_info": {
   "codemirror_mode": {
    "name": "ipython",
    "version": 3
   },
   "file_extension": ".py",
   "mimetype": "text/x-python",
   "name": "python",
   "nbconvert_exporter": "python",
   "pygments_lexer": "ipython3",
   "version": "3.8.16"
  }
 },
 "nbformat": 4,
 "nbformat_minor": 5
}
