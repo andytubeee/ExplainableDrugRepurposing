{
 "cells": [
  {
   "cell_type": "markdown",
   "id": "80d394e1-87c1-4ee9-a182-9d056b679730",
   "metadata": {},
   "source": [
    "**------------------------------------------------------------------------------------------------------------------------------------------------------**\n",
    "\n",
    "**Input: Drug Repurposing Knowledge Graph (DRKG)**\n",
    "\n",
    "**This notebook returns a trained GraphSAGE, GCN and GAT**\n",
    "\n",
    "**------------------------------------------------------------------------------------------------------------------------------------------------------**"
   ]
  },
  {
   "cell_type": "markdown",
   "id": "a49067ae-adaa-41d3-8a4c-f88a8d5d89c6",
   "metadata": {},
   "source": [
    "# Librairies"
   ]
  },
  {
   "cell_type": "code",
   "execution_count": 1,
   "id": "eb971bee-bed7-404b-aeac-7278245b8538",
   "metadata": {},
   "outputs": [],
   "source": [
    "import pandas as pd\n",
    "import numpy as np\n",
    "import matplotlib.pyplot as plt\n",
    "import networkx as nx\n",
    "import json\n",
    "\n",
    "import os\n",
    "import re\n",
    "import random\n",
    "import itertools\n",
    "\n",
    "import torch\n",
    "import torch.nn as nn\n",
    "from torch.nn import Linear\n",
    "import torch.nn.functional as F\n",
    "\n",
    "import dgl\n",
    "import dgl.nn as dglnn\n",
    "import dgl.function as fn\n",
    "from dgl.nn import HeteroGraphConv, SAGEConv, GraphConv, GATConv\n",
    "from dgl.data.utils import save_graphs, load_graphs\n",
    "\n",
    "from torch_geometric.explain import characterization_score\n",
    "\n",
    "from captum.attr import Saliency, IntegratedGradients\n",
    "\n",
    "from sklearn.metrics import roc_auc_score, precision_score, recall_score, f1_score\n",
    "\n",
    "from functools import partial\n",
    "\n",
    "import warnings\n",
    "warnings.simplefilter(\"ignore\")\n",
    "\n",
    "from src.utils import *\n",
    "from src.gnn import *"
   ]
  },
  {
   "cell_type": "markdown",
   "id": "fbb9f943-9c0a-43c3-86c2-6f9de5079d68",
   "metadata": {},
   "source": [
    "# 1) Get Data"
   ]
  },
  {
   "cell_type": "markdown",
   "id": "75efc1c2-c2e1-4cb0-95cb-e43a4a1cb174",
   "metadata": {},
   "source": [
    "**Get DRKG**"
   ]
  },
  {
   "cell_type": "code",
   "execution_count": 2,
   "id": "51eae998-28e9-48c4-bc17-babd864bd4e1",
   "metadata": {},
   "outputs": [],
   "source": [
    "df = pd.read_csv('Input/DRKG/drkg.tsv', sep='\\t', header=None)\n",
    "df = df.dropna()"
   ]
  },
  {
   "cell_type": "markdown",
   "id": "e7c86445-4dcb-4e66-a3f8-607f982f80c8",
   "metadata": {},
   "source": [
    "**Create HeteroGraph**"
   ]
  },
  {
   "cell_type": "code",
   "execution_count": 3,
   "id": "e0690d23-6155-4165-8d85-3c9d353ba16f",
   "metadata": {},
   "outputs": [],
   "source": [
    "node_dict = get_node_dict(df)\n",
    "edge_dict = get_edge_dict(df, node_dict)\n",
    "g = dgl.heterograph(edge_dict)"
   ]
  },
  {
   "cell_type": "markdown",
   "id": "1fec7784-dd3c-4b97-8e30-a71aa9000ef7",
   "metadata": {},
   "source": [
    "**Add random node features**"
   ]
  },
  {
   "cell_type": "code",
   "execution_count": 4,
   "id": "8e3f44ce-3a20-42d4-b128-e3d528815c12",
   "metadata": {},
   "outputs": [],
   "source": [
    "g, node_features = add_node_features(g)"
   ]
  },
  {
   "cell_type": "markdown",
   "id": "8a7bddcd-f481-4ce6-8a2a-76e97847d412",
   "metadata": {},
   "source": [
    "**Split into train/test graphs**"
   ]
  },
  {
   "cell_type": "code",
   "execution_count": 5,
   "id": "f8f3337f-968f-4b06-82bb-910a8c9a9929",
   "metadata": {},
   "outputs": [],
   "source": [
    "etype2pred = ('Compound', 'DRUGBANK::treats::Compound:Disease', 'Disease')"
   ]
  },
  {
   "cell_type": "code",
   "execution_count": 6,
   "id": "b1513035-ee53-4fec-9cbb-866f4f724756",
   "metadata": {},
   "outputs": [],
   "source": [
    "g_train, g_test = split_train_test(g, etype2pred)"
   ]
  },
  {
   "cell_type": "markdown",
   "id": "90d9d0bb-943c-456c-a400-c00c69278c2b",
   "metadata": {},
   "source": [
    "# 2) Train Graph Neural Networks"
   ]
  },
  {
   "cell_type": "markdown",
   "id": "8902a691-2ee6-4fad-804b-42e80455edc4",
   "metadata": {},
   "source": [
    "**Graph Convolutional Network**"
   ]
  },
  {
   "cell_type": "code",
   "execution_count": 7,
   "id": "8e6191dd-1f29-4134-82b8-d92a4236fd9e",
   "metadata": {},
   "outputs": [
    {
     "name": "stdout",
     "output_type": "stream",
     "text": [
      "Epoch: 0, Loss: 10.2109\n",
      "Epoch: 50, Loss: 0.2222\n",
      "Epoch: 100, Loss: 0.1219\n",
      "Precision: 0.9512\n",
      "Recall: 0.0392\n",
      "F1-Score: 0.0754\n"
     ]
    }
   ],
   "source": [
    "gcn_model = Model(gnn_variant = 'GCN', \n",
    "                  etypes = g.etypes, \n",
    "                  etype2pred = etype2pred,\n",
    "                  g_train = g_train, \n",
    "                  g_test = g_test, \n",
    "                  node_features = node_features)\n",
    "gcn_model._train()\n",
    "gcn_model._eval()\n",
    "torch.save(gcn_model, 'Output/GNNModels/GCN')"
   ]
  },
  {
   "cell_type": "markdown",
   "id": "20acc0ff-459b-44c1-95f0-53839a683766",
   "metadata": {},
   "source": [
    "**GraphSAGE**"
   ]
  },
  {
   "cell_type": "code",
   "execution_count": 8,
   "id": "85d3b4d1-204f-46e0-bf0e-4a01f90b5d83",
   "metadata": {},
   "outputs": [
    {
     "name": "stdout",
     "output_type": "stream",
     "text": [
      "Epoch: 0, Loss: 9935.2969\n",
      "Epoch: 50, Loss: 66.1691\n",
      "Epoch: 100, Loss: 97.5386\n",
      "Precision: 0.9417\n",
      "Recall: 0.3089\n",
      "F1-Score: 0.4652\n"
     ]
    }
   ],
   "source": [
    "graphsage_model = Model(gnn_variant = 'GraphSAGE', \n",
    "                  etypes = g.etypes, \n",
    "                  etype2pred = etype2pred,\n",
    "                  g_train = g_train, \n",
    "                  g_test = g_test, \n",
    "                  node_features = node_features)\n",
    "graphsage_model._train()\n",
    "graphsage_model._eval()\n",
    "torch.save(graphsage_model, 'Output/GNNModels/GraphSAGE')"
   ]
  },
  {
   "cell_type": "markdown",
   "id": "1c37e486-23f4-4d74-87dc-11969201d838",
   "metadata": {},
   "source": [
    "**Graph Attention Network**"
   ]
  },
  {
   "cell_type": "code",
   "execution_count": 9,
   "id": "1dd598ac-9536-42d9-bbb9-0b250cb4d0cd",
   "metadata": {},
   "outputs": [
    {
     "name": "stdout",
     "output_type": "stream",
     "text": [
      "Epoch: 0, Loss: 538.9611\n",
      "Epoch: 50, Loss: 3.3144\n",
      "Epoch: 100, Loss: 2.1257\n",
      "Precision: 0.1747\n",
      "Recall: 0.9688\n",
      "F1-Score: 0.2960\n"
     ]
    }
   ],
   "source": [
    "gat_model = Model(gnn_variant = 'GAT', \n",
    "                  etypes = g.etypes, \n",
    "                  etype2pred = etype2pred,\n",
    "                  g_train = g_train, \n",
    "                  g_test = g_test, \n",
    "                  node_features = node_features)\n",
    "gat_model._train()\n",
    "gat_model._eval()\n",
    "torch.save(gat_model, 'Output/GNNModels/GAT')"
   ]
  }
 ],
 "metadata": {
  "kernelspec": {
   "display_name": "Python 3 (ipykernel)",
   "language": "python",
   "name": "python3"
  },
  "language_info": {
   "codemirror_mode": {
    "name": "ipython",
    "version": 3
   },
   "file_extension": ".py",
   "mimetype": "text/x-python",
   "name": "python",
   "nbconvert_exporter": "python",
   "pygments_lexer": "ipython3",
   "version": "3.8.16"
  }
 },
 "nbformat": 4,
 "nbformat_minor": 5
}
